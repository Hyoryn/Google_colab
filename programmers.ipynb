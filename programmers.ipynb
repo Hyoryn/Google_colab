{
  "nbformat": 4,
  "nbformat_minor": 0,
  "metadata": {
    "colab": {
      "provenance": [],
      "authorship_tag": "ABX9TyOjyVIt8S8ad7tcUf1IWpgr",
      "include_colab_link": true
    },
    "kernelspec": {
      "name": "python3",
      "display_name": "Python 3"
    },
    "language_info": {
      "name": "python"
    }
  },
  "cells": [
    {
      "cell_type": "markdown",
      "metadata": {
        "id": "view-in-github",
        "colab_type": "text"
      },
      "source": [
        "<a href=\"https://colab.research.google.com/github/Hyoryn/Google_colab/blob/main/programmers.ipynb\" target=\"_parent\"><img src=\"https://colab.research.google.com/assets/colab-badge.svg\" alt=\"Open In Colab\"/></a>"
      ]
    },
    {
      "cell_type": "code",
      "execution_count": null,
      "metadata": {
        "colab": {
          "base_uri": "https://localhost:8080/"
        },
        "id": "CXi9IZttxjqX",
        "outputId": "532b17c8-d73b-42bd-b492-75881669517c"
      },
      "outputs": [
        {
          "output_type": "stream",
          "name": "stdout",
          "text": [
            "2\n",
            "3\n",
            "num1이 2이고 num2가 3이므로 2 + 3 = 5를 return합니다.\n"
          ]
        }
      ],
      "source": [
        "#두 수의 합 구하기\n",
        "num1 = int(input())\n",
        "num2 = int(input())\n",
        "print(f\"num1이 {num1}이고 num2가 {num2}이므로 {num1} + {num2} = {num1 + num2}를 return합니다.\")"
      ]
    },
    {
      "cell_type": "code",
      "source": [
        "#두 수의 차 구하기\n",
        "num1 = int(input())\n",
        "num2 = int(input())\n",
        "print(f\"num1이 {num1}이고 num2가 {num2}이므로 {num1} - {num2} = {num1 - num2}를 return합니다.\")"
      ],
      "metadata": {
        "id": "79GIlR-uli-M"
      },
      "execution_count": null,
      "outputs": []
    },
    {
      "cell_type": "code",
      "source": [
        "#두 수의 곱 구하기\n",
        "num1 = int(input())\n",
        "num2 = int(input())\n",
        "print(f\"num1이 {num1}, num2가 {num2}이므로 {num1} * {num2} = {num1 * num2}를 return합니다.\")"
      ],
      "metadata": {
        "colab": {
          "base_uri": "https://localhost:8080/"
        },
        "id": "qu96yDBNG8Nh",
        "outputId": "fd8979d5-9368-439d-838d-7b8effccce2e"
      },
      "execution_count": null,
      "outputs": [
        {
          "output_type": "stream",
          "name": "stdout",
          "text": [
            "3\n",
            "4\n",
            "num1이 3, num2가 4이므로 3 * 4 = 12를 return합니다.\n"
          ]
        }
      ]
    },
    {
      "cell_type": "code",
      "source": [
        "#두 수의 몫 구하기\n",
        "num1 = int(input())\n",
        "num2 = int(input())\n",
        "print(f\"num1이 {num1}, num2가 {num2}이므로 {num1}을 {num2}로 나눈 몫 {num1 // num2}을 return합니다.\")"
      ],
      "metadata": {
        "colab": {
          "base_uri": "https://localhost:8080/"
        },
        "id": "uZZp35YmHB9T",
        "outputId": "0753e697-0bc9-4ab8-8c40-80a6244d929d"
      },
      "execution_count": null,
      "outputs": [
        {
          "output_type": "stream",
          "name": "stdout",
          "text": [
            "10\n",
            "5\n",
            "num1이 10, num2가 5이므로 10을 5로 나눈 몫 2을 return합니다.\n"
          ]
        }
      ]
    },
    {
      "cell_type": "code",
      "source": [
        "#두 수의 나눗셈\n",
        "num1 = int(input())\n",
        "num2 = int(input())\n",
        "print(f\"num1이 {num1}, num2가 {num2}이므로 {num1} / {num2} = {num1 / num2}에 1,000을 곱하면 {(num1 / num2)*1000:.0f}이 됩니다.\")"
      ],
      "metadata": {
        "colab": {
          "base_uri": "https://localhost:8080/"
        },
        "id": "9ucAVSFeHif6",
        "outputId": "0f2b7d77-6503-495f-992b-75d964afa905"
      },
      "execution_count": null,
      "outputs": [
        {
          "output_type": "stream",
          "name": "stdout",
          "text": [
            "3\n",
            "2\n",
            "num1이 3, num2가 2이므로 3 / 2 = 1.5에 1,000을 곱하면 1500이 됩니다.\n"
          ]
        }
      ]
    },
    {
      "cell_type": "code",
      "source": [
        "#숫자 비교하기\n",
        "num1 = int(input())\n",
        "num2 = int(input())\n",
        "\n",
        "if num1 == num2 :\n",
        "  print(\"1\")\n",
        "else:\n",
        "  print(\"-1\")"
      ],
      "metadata": {
        "colab": {
          "base_uri": "https://localhost:8080/"
        },
        "id": "DRxjpV6ZIpj5",
        "outputId": "6ec846ca-7790-48de-cfd1-051364fa9b4a"
      },
      "execution_count": null,
      "outputs": [
        {
          "output_type": "stream",
          "name": "stdout",
          "text": [
            "2\n",
            "3\n",
            "-1\n"
          ]
        }
      ]
    },
    {
      "cell_type": "code",
      "source": [
        "#분수의 덧셈\n",
        "numer1 = int(input())\n",
        "denom1 = int(input())\n",
        "\n",
        "numer2 = int(input())\n",
        "denom2 = int(input())\n",
        "\n",
        "print(f\"{numer1}/{denom1} + {numer2}/{denom2} = {numer1 * denom2 + numer2 * denom1}/{denom1 * denom2}\")\n",
        "\n",
        "## 기약분수 만드는 방법"
      ],
      "metadata": {
        "colab": {
          "base_uri": "https://localhost:8080/"
        },
        "id": "-1_jKQFcqAL8",
        "outputId": "9a01ead6-80c9-4f5e-edea-e9ff3346aebb"
      },
      "execution_count": null,
      "outputs": [
        {
          "output_type": "stream",
          "name": "stdout",
          "text": [
            "1\n",
            "2\n",
            "3\n",
            "4\n",
            "1/2 + 3/4 = 10/8\n"
          ]
        }
      ]
    },
    {
      "cell_type": "code",
      "source": [
        "#각도기\n",
        "angle = int(input())\n",
        "if 0 < angle < 90:\n",
        "  print(1)\n",
        "elif angle == 90:\n",
        "  print(2)\n",
        "elif 90 < angle < 180:\n",
        "  print(3)\n",
        "elif angle == 180:\n",
        "  print(4)"
      ],
      "metadata": {
        "colab": {
          "base_uri": "https://localhost:8080/"
        },
        "id": "nKq2Ha1vMBwx",
        "outputId": "c0501301-0e84-4e5d-8717-4ab271154b04"
      },
      "execution_count": null,
      "outputs": [
        {
          "output_type": "stream",
          "name": "stdout",
          "text": [
            "70\n",
            "1\n"
          ]
        }
      ]
    },
    {
      "cell_type": "code",
      "source": [
        "#양꼬치\n",
        "n = int(input())\n",
        "k = int(input())\n",
        "\n",
        "print(n*12000 + k*2000 - (n // 10 )*2000)"
      ],
      "metadata": {
        "colab": {
          "base_uri": "https://localhost:8080/"
        },
        "id": "YfbOhiQdMWKQ",
        "outputId": "7dc5a7ea-dcc0-474b-be9e-f1210d6d5e4d"
      },
      "execution_count": null,
      "outputs": [
        {
          "output_type": "stream",
          "name": "stdout",
          "text": [
            "10\n",
            "3\n",
            "124000\n"
          ]
        }
      ]
    },
    {
      "cell_type": "code",
      "source": [
        "#짝수의 합\n",
        "n = int(input())\n",
        "s = 0\n",
        "for i in range(0,n+1):\n",
        "  if i % 2 == 0:\n",
        "    s += i\n",
        "print(s)"
      ],
      "metadata": {
        "colab": {
          "base_uri": "https://localhost:8080/"
        },
        "id": "560p_HV-Mz1B",
        "outputId": "84d551d5-82e6-4314-c503-b96c3ef8a2d7"
      },
      "execution_count": null,
      "outputs": [
        {
          "output_type": "stream",
          "name": "stdout",
          "text": [
            "10\n",
            "30\n"
          ]
        }
      ]
    },
    {
      "cell_type": "code",
      "source": [
        "#배열의 평균값\n",
        "numbers = input().split(\",\")\n",
        "l = len(numbers)\n",
        "numbers = map(int, numbers)\n",
        "s = sum(numbers)\n",
        "print(s / l)\n"
      ],
      "metadata": {
        "colab": {
          "base_uri": "https://localhost:8080/"
        },
        "id": "EEDtbhDXND_Z",
        "outputId": "52a15717-3373-42be-99fc-abb6f90ed442"
      },
      "execution_count": null,
      "outputs": [
        {
          "output_type": "stream",
          "name": "stdout",
          "text": [
            "1,2,3,4,5,6,7,8,9,10\n",
            "5.5\n"
          ]
        }
      ]
    },
    {
      "cell_type": "code",
      "source": [
        "#배열 뒤집기\n",
        "num_list = input().split(\",\")\n",
        "print(num_list[::-1])"
      ],
      "metadata": {
        "colab": {
          "base_uri": "https://localhost:8080/"
        },
        "id": "raI1R3teNieE",
        "outputId": "68d60087-c18e-475a-9a01-1e9ab9d9fe64"
      },
      "execution_count": null,
      "outputs": [
        {
          "output_type": "stream",
          "name": "stdout",
          "text": [
            "[1, 2, 3, 4, 5]\n",
            "[' 5]', ' 4', ' 3', ' 2', '[1']\n"
          ]
        }
      ]
    },
    {
      "cell_type": "code",
      "source": [
        "#뒤집힌 문자열\n",
        "my_string = input()\n",
        "print(my_string[::-1])"
      ],
      "metadata": {
        "colab": {
          "base_uri": "https://localhost:8080/"
        },
        "id": "W6165RrqPFVt",
        "outputId": "41befdc9-d4b2-4c57-a825-6c4448d118e2"
      },
      "execution_count": null,
      "outputs": [
        {
          "output_type": "stream",
          "name": "stdout",
          "text": [
            "\"jaron\"\n",
            "\"noraj\"\n"
          ]
        }
      ]
    },
    {
      "cell_type": "code",
      "source": [
        "#편지\n",
        "s = input()\n",
        "l = len(s)\n",
        "\n",
        "print(l*2)"
      ],
      "metadata": {
        "colab": {
          "base_uri": "https://localhost:8080/"
        },
        "id": "qG2i9O0VPSH_",
        "outputId": "fa2f4c12-15f5-48f2-88b2-a92ef3e90c30"
      },
      "execution_count": null,
      "outputs": [
        {
          "output_type": "stream",
          "name": "stdout",
          "text": [
            "happy birthday!\n",
            "30\n"
          ]
        }
      ]
    },
    {
      "cell_type": "code",
      "source": [
        "#세균 증식\n",
        "n = int(input())\n",
        "t = int(input())\n",
        "\n",
        "print(n*(2**t))"
      ],
      "metadata": {
        "colab": {
          "base_uri": "https://localhost:8080/"
        },
        "id": "A-8SuFyaQQwN",
        "outputId": "a92d9ad3-fa79-423f-e52a-155b09b71e18"
      },
      "execution_count": null,
      "outputs": [
        {
          "output_type": "stream",
          "name": "stdout",
          "text": [
            "2\n",
            "10\n",
            "2048\n"
          ]
        }
      ]
    },
    {
      "cell_type": "code",
      "source": [
        "#머슥이보다 키 큰 사람\n",
        "array = map(int,input().split(\",\"))\n",
        "height = int(input())\n",
        "s = 0\n",
        "\n",
        "for i in array:\n",
        "  if i > height:\n",
        "    s += 1\n",
        "print(s)\n",
        "\n"
      ],
      "metadata": {
        "colab": {
          "base_uri": "https://localhost:8080/"
        },
        "id": "Po37EM-dRcG3",
        "outputId": "3ca56d7d-7357-4930-84f6-ed1da3832d44"
      },
      "execution_count": null,
      "outputs": [
        {
          "output_type": "stream",
          "name": "stdout",
          "text": [
            "149, 180, 192, 170\n",
            "167\n",
            "3\n"
          ]
        }
      ]
    },
    {
      "cell_type": "code",
      "source": [
        "#삼각형의 완성조건(1)\n",
        "sides = map(int,input().split(\",\"))\n",
        "m = max(sides)\n",
        "s = sum(sides)\n",
        "\n",
        "if m > s-m :\n",
        "  print(\"2\")\n",
        "else:\n",
        "  print(\"1\")"
      ],
      "metadata": {
        "colab": {
          "base_uri": "https://localhost:8080/"
        },
        "id": "v0TbbYsxSFzh",
        "outputId": "353e1dfe-c40a-4347-a5ce-90a1187987f3"
      },
      "execution_count": null,
      "outputs": [
        {
          "output_type": "stream",
          "name": "stdout",
          "text": [
            "1,2,3\n",
            "2\n"
          ]
        }
      ]
    },
    {
      "cell_type": "code",
      "source": [
        "#문자열 출력하기\n",
        "str = input()\n",
        "print(str)"
      ],
      "metadata": {
        "colab": {
          "base_uri": "https://localhost:8080/"
        },
        "id": "OpaPvN29p2gI",
        "outputId": "dd7e21db-73af-4e39-fb25-fbbf72066739"
      },
      "execution_count": 3,
      "outputs": [
        {
          "output_type": "stream",
          "name": "stdout",
          "text": [
            "hello\n",
            "hello\n"
          ]
        }
      ]
    },
    {
      "cell_type": "code",
      "source": [
        "#a와b 출력하기\n",
        "a,b = map(int,(input().split()))\n",
        "\n",
        "print(\"a =\", a)\n",
        "print(\"b =\", b)"
      ],
      "metadata": {
        "colab": {
          "base_uri": "https://localhost:8080/"
        },
        "id": "0Dl7-AVGqLd2",
        "outputId": "9db7b04a-42a8-4afc-c9c9-a5af04cbfdcd"
      },
      "execution_count": 4,
      "outputs": [
        {
          "output_type": "stream",
          "name": "stdout",
          "text": [
            "4 5\n",
            "a = 4\n",
            "b = 5\n"
          ]
        }
      ]
    },
    {
      "cell_type": "code",
      "source": [
        "#문자열 반복해서 출력하기\n",
        "str, n = input().split()\n",
        "n = int(n)\n",
        "\n",
        "print(str*n)\n",
        "\n",
        "\n"
      ],
      "metadata": {
        "colab": {
          "base_uri": "https://localhost:8080/"
        },
        "id": "S5hW8tV1qlrW",
        "outputId": "731a3fa9-2baa-4134-f686-c67dea773a23"
      },
      "execution_count": 5,
      "outputs": [
        {
          "output_type": "stream",
          "name": "stdout",
          "text": [
            "string 5\n",
            "stringstringstringstringstring\n"
          ]
        }
      ]
    },
    {
      "cell_type": "code",
      "source": [
        "#대소문자 바꿔서 출력하기\n",
        "str = input()\n",
        "print(str.swapcase())\n",
        "\n",
        "#swapcase -> 대문자는 소문자로, 소문자는 대문자로 바꿔주는 함수"
      ],
      "metadata": {
        "colab": {
          "base_uri": "https://localhost:8080/"
        },
        "id": "l09M6ElDrbUa",
        "outputId": "7ebd444e-69a1-458f-9b58-802d561c8ea1"
      },
      "execution_count": 7,
      "outputs": [
        {
          "output_type": "stream",
          "name": "stdout",
          "text": [
            "aBcDeFg\n",
            "AbCdEfG\n"
          ]
        }
      ]
    },
    {
      "cell_type": "code",
      "source": [
        "#특수문자 출력하기\n",
        "print(\"!@#$%^&*(\\\\'\\\"<>?:;\")\n",
        "\n",
        "# \\\\ → 역슬래시(\\) 하나 출력\n",
        "# \\' → 작은따옴표(') 출력\n",
        "# \\\" → 큰따옴표(\") 출력"
      ],
      "metadata": {
        "colab": {
          "base_uri": "https://localhost:8080/"
        },
        "id": "fSu4v9jFseyD",
        "outputId": "7d24bc25-8dda-4a05-9f5b-2368f647a716"
      },
      "execution_count": 10,
      "outputs": [
        {
          "output_type": "stream",
          "name": "stdout",
          "text": [
            "!@#$%^&*(\\'\"<>?:;\n"
          ]
        }
      ]
    },
    {
      "cell_type": "code",
      "source": [
        "#덧셈식 출력하기\n",
        "a, b = map(int, input().split())\n",
        "\n",
        "print(f\"{a} + {b} = {a+b}\")"
      ],
      "metadata": {
        "colab": {
          "base_uri": "https://localhost:8080/"
        },
        "id": "hKNd5iVgtMsY",
        "outputId": "fe5dd98e-1c88-4ddf-c707-a1896e15b09e"
      },
      "execution_count": 11,
      "outputs": [
        {
          "output_type": "stream",
          "name": "stdout",
          "text": [
            "4 5\n",
            "4 + 5 = 9\n"
          ]
        }
      ]
    },
    {
      "cell_type": "code",
      "source": [
        "#문자열 붙여서 출력하기\n",
        "str1, str2 = input().split()\n",
        "print(str1 + str2)"
      ],
      "metadata": {
        "colab": {
          "base_uri": "https://localhost:8080/"
        },
        "id": "vOhpSgw9tqvw",
        "outputId": "7f737b23-59e2-487d-b36e-8995b4b2b369"
      },
      "execution_count": 12,
      "outputs": [
        {
          "output_type": "stream",
          "name": "stdout",
          "text": [
            "apple pen\n",
            "applepen\n"
          ]
        }
      ]
    },
    {
      "cell_type": "code",
      "source": [
        "#문자열 돌리기\n",
        "str = input()\n",
        "for i in str:\n",
        "  print(i)"
      ],
      "metadata": {
        "colab": {
          "base_uri": "https://localhost:8080/"
        },
        "id": "MwxM5fgIuAkQ",
        "outputId": "8971ee85-cdb4-41ea-b5e8-3f18f81492ae"
      },
      "execution_count": 13,
      "outputs": [
        {
          "output_type": "stream",
          "name": "stdout",
          "text": [
            "abcde\n",
            "a\n",
            "b\n",
            "c\n",
            "d\n",
            "e\n"
          ]
        }
      ]
    },
    {
      "cell_type": "code",
      "source": [
        "#홀짝 구분하기\n",
        "n = int(input())\n",
        "\n",
        "if n % 2 == 0:\n",
        "  print(f\"{n} is even\")\n",
        "else:\n",
        "  print(f\"{n} is odd\")"
      ],
      "metadata": {
        "colab": {
          "base_uri": "https://localhost:8080/"
        },
        "id": "1LCURkOquQdm",
        "outputId": "2f7da083-7068-4ba3-9fdf-665c40e6a47f"
      },
      "execution_count": 15,
      "outputs": [
        {
          "output_type": "stream",
          "name": "stdout",
          "text": [
            "1\n",
            "1 is odd\n"
          ]
        }
      ]
    },
    {
      "cell_type": "code",
      "source": [
        "#문자열 겹쳐쓰기\n",
        "my_string = input()\n",
        "overwrite_string = input()\n",
        "s = int(input())\n",
        "l = len(overwrite_string)\n",
        "\n",
        "print(my_string[:s] + overwrite_string + my_string[l+s:])"
      ],
      "metadata": {
        "colab": {
          "base_uri": "https://localhost:8080/"
        },
        "id": "D8KyWuXFumIA",
        "outputId": "71bc1f74-2193-420d-fe71-05ca3753ece4"
      },
      "execution_count": 24,
      "outputs": [
        {
          "output_type": "stream",
          "name": "stdout",
          "text": [
            "He11oWor1d\n",
            "lloWorl\n",
            "2\n",
            "HelloWorld\n"
          ]
        }
      ]
    }
  ]
}